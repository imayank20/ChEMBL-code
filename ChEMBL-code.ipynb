{
 "cells": [
  {
   "cell_type": "code",
   "execution_count": 2,
   "id": "ffe2de6f",
   "metadata": {},
   "outputs": [],
   "source": [
    "import pandas as pd\n",
    "from chembl_webresource_client.new_client import new_client"
   ]
  },
  {
   "cell_type": "code",
   "execution_count": 3,
   "id": "4f5b46af",
   "metadata": {},
   "outputs": [
    {
     "data": {
      "text/html": [
       "<div>\n",
       "<style scoped>\n",
       "    .dataframe tbody tr th:only-of-type {\n",
       "        vertical-align: middle;\n",
       "    }\n",
       "\n",
       "    .dataframe tbody tr th {\n",
       "        vertical-align: top;\n",
       "    }\n",
       "\n",
       "    .dataframe thead th {\n",
       "        text-align: right;\n",
       "    }\n",
       "</style>\n",
       "<table border=\"1\" class=\"dataframe\">\n",
       "  <thead>\n",
       "    <tr style=\"text-align: right;\">\n",
       "      <th></th>\n",
       "      <th>cross_references</th>\n",
       "      <th>organism</th>\n",
       "      <th>pref_name</th>\n",
       "      <th>score</th>\n",
       "      <th>species_group_flag</th>\n",
       "      <th>target_chembl_id</th>\n",
       "      <th>target_components</th>\n",
       "      <th>target_type</th>\n",
       "      <th>tax_id</th>\n",
       "    </tr>\n",
       "  </thead>\n",
       "  <tbody>\n",
       "    <tr>\n",
       "      <th>0</th>\n",
       "      <td>[{'xref_id': 'P11511', 'xref_name': None, 'xre...</td>\n",
       "      <td>Homo sapiens</td>\n",
       "      <td>Cytochrome P450 19A1</td>\n",
       "      <td>20.0</td>\n",
       "      <td>False</td>\n",
       "      <td>CHEMBL1978</td>\n",
       "      <td>[{'accession': 'P11511', 'component_descriptio...</td>\n",
       "      <td>SINGLE PROTEIN</td>\n",
       "      <td>9606</td>\n",
       "    </tr>\n",
       "    <tr>\n",
       "      <th>1</th>\n",
       "      <td>[{'xref_id': 'P22443', 'xref_name': None, 'xre...</td>\n",
       "      <td>Rattus norvegicus</td>\n",
       "      <td>Cytochrome P450 19A1</td>\n",
       "      <td>20.0</td>\n",
       "      <td>False</td>\n",
       "      <td>CHEMBL3859</td>\n",
       "      <td>[{'accession': 'P22443', 'component_descriptio...</td>\n",
       "      <td>SINGLE PROTEIN</td>\n",
       "      <td>10116</td>\n",
       "    </tr>\n",
       "  </tbody>\n",
       "</table>\n",
       "</div>"
      ],
      "text/plain": [
       "                                    cross_references           organism  \\\n",
       "0  [{'xref_id': 'P11511', 'xref_name': None, 'xre...       Homo sapiens   \n",
       "1  [{'xref_id': 'P22443', 'xref_name': None, 'xre...  Rattus norvegicus   \n",
       "\n",
       "              pref_name  score  species_group_flag target_chembl_id  \\\n",
       "0  Cytochrome P450 19A1   20.0               False       CHEMBL1978   \n",
       "1  Cytochrome P450 19A1   20.0               False       CHEMBL3859   \n",
       "\n",
       "                                   target_components     target_type  tax_id  \n",
       "0  [{'accession': 'P11511', 'component_descriptio...  SINGLE PROTEIN    9606  \n",
       "1  [{'accession': 'P22443', 'component_descriptio...  SINGLE PROTEIN   10116  "
      ]
     },
     "execution_count": 3,
     "metadata": {},
     "output_type": "execute_result"
    }
   ],
   "source": [
    "target = new_client.target\n",
    "target_query = target.search('aromatase')\n",
    "target = pd.DataFrame.from_dict(target_query)\n",
    "target"
   ]
  },
  {
   "cell_type": "code",
   "execution_count": null,
   "id": "35d61083",
   "metadata": {},
   "outputs": [],
   "source": []
  }
 ],
 "metadata": {
  "kernelspec": {
   "display_name": "Python 3 (ipykernel)",
   "language": "python",
   "name": "python3"
  },
  "language_info": {
   "codemirror_mode": {
    "name": "ipython",
    "version": 3
   },
   "file_extension": ".py",
   "mimetype": "text/x-python",
   "name": "python",
   "nbconvert_exporter": "python",
   "pygments_lexer": "ipython3",
   "version": "3.11.3"
  }
 },
 "nbformat": 4,
 "nbformat_minor": 5
}
